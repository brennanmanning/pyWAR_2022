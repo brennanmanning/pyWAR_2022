{
 "cells": [
  {
   "cell_type": "markdown",
   "id": "8a93ecba-b2ce-4b5e-8fd4-301083bb7ae4",
   "metadata": {},
   "source": [
    "## Read in Play by Play Data"
   ]
  },
  {
   "cell_type": "code",
   "execution_count": 1,
   "id": "e66ad251-1e81-4818-bbc8-c0a595d0bb29",
   "metadata": {},
   "outputs": [],
   "source": [
    "import pandas as pd\n",
    "import os\n",
    "import numpy as np\n",
    "import re"
   ]
  },
  {
   "cell_type": "code",
   "execution_count": 2,
   "id": "642214e6-0345-44ab-8b45-364e2f66ad76",
   "metadata": {},
   "outputs": [],
   "source": [
    "path = \"/Users/brennan/Data/baseball/\""
   ]
  },
  {
   "cell_type": "code",
   "execution_count": 3,
   "id": "8164beb7-199f-4bdb-9c49-a5d55d9941cf",
   "metadata": {},
   "outputs": [],
   "source": [
    "files = [path + file for file in os.listdir(path) if re.match(\".*BEV\", file)]\n",
    "files.sort()"
   ]
  },
  {
   "cell_type": "code",
   "execution_count": 4,
   "id": "05c90266-e5e0-4f16-b579-59b50b21026c",
   "metadata": {},
   "outputs": [],
   "source": [
    "col_names = [\"game\", \"visitors\", \"inning\", \"batting_team\", \"outs\", \"balls\",\n",
    "             \"strikes\", \"seq\", \"v_score\", \"h_score\", \"b_id\", \"b_hand\", \"p_id\",\n",
    "             \"p_hand\", \"runner1_id\", \"runner2_id\", \"runner3_id\", \"desc\",\n",
    "             \"leadoff\", \"pinchhit\", \"position\", \"lineup_no\", \"event_type\",\n",
    "             \"batter_event\", \"ab\", \"hit_value\", \"sac_hit\", \"sac_fly\",\n",
    "             \"out_play\", \"rbi\", \"wild_ptich\", \"passed_ball\", \"errors\",\n",
    "             \"batter_dest\", \"runner1_dest\", \"runner2_dest\", \"runner3_dest\"]"
   ]
  },
  {
   "cell_type": "code",
   "execution_count": 5,
   "id": "413ca510-4ea3-472c-b16f-377682c70f77",
   "metadata": {},
   "outputs": [],
   "source": [
    "pbp = pd.concat([pd.read_csv(file, names = col_names, true_values = [\"T\"], false_values = [\"F\"]) for file in files])"
   ]
  },
  {
   "cell_type": "code",
   "execution_count": 6,
   "id": "323af7f8-d58c-46a4-8ffd-6492bb99484e",
   "metadata": {},
   "outputs": [],
   "source": [
    "pbp[\"home\"] = pbp[\"game\"].str[:3]\n",
    "pbp[\"id\"] = pbp[\"game\"].str[3:]\n",
    "pbp[\"runner1\"] = ~pbp[\"runner1_id\"].isna()\n",
    "pbp[\"runner2\"] = ~pbp[\"runner2_id\"].isna()\n",
    "pbp[\"runner3\"] = ~pbp[\"runner3_id\"].isna()\n",
    "pbp[\"score\"] = pbp[\"batting_team\"] * pbp[\"h_score\"] + (1 - pbp[\"batting_team\"]) * pbp[\"v_score\"]"
   ]
  },
  {
   "cell_type": "code",
   "execution_count": 7,
   "id": "af193ba7-262f-485a-83ff-89565959c1f7",
   "metadata": {},
   "outputs": [],
   "source": [
    "pbp[\"runner000\"] = ~(pbp[\"runner1\"] | pbp[\"runner2\"] | pbp[\"runner3\"])\n",
    "pbp[\"runner100\"] = pbp[\"runner1\"] & ~(pbp[\"runner2\"] | pbp[\"runner3\"])\n",
    "pbp[\"runner020\"] = pbp[\"runner2\"] & ~(pbp[\"runner1\"] | pbp[\"runner3\"])\n",
    "pbp[\"runner120\"] = pbp[\"runner1\"] & pbp[\"runner2\"] & ~pbp[\"runner3\"]\n",
    "pbp[\"runner003\"] = pbp[\"runner3\"] & ~(pbp[\"runner1\"] | pbp[\"runner2\"])\n",
    "pbp[\"runner103\"] = pbp[\"runner1\"] & pbp[\"runner3\"] & ~pbp[\"runner2\"]\n",
    "pbp[\"runner023\"] = pbp[\"runner2\"] & pbp[\"runner3\"] & ~pbp[\"runner1\"]\n",
    "pbp[\"runner123\"] = pbp[\"runner1\"] & pbp[\"runner2\"] & pbp[\"runner3\"]"
   ]
  },
  {
   "cell_type": "code",
   "execution_count": 10,
   "id": "457477fa-bb6c-484d-ac6b-295d144e08f2",
   "metadata": {},
   "outputs": [
    {
     "data": {
      "text/plain": [
       "array([0, 2, 1, 4, 3, 5, 6])"
      ]
     },
     "execution_count": 10,
     "metadata": {},
     "output_type": "execute_result"
    }
   ],
   "source": [
    "pbp.runner1_dest.unique()"
   ]
  },
  {
   "cell_type": "markdown",
   "id": "17ee4bfa-798a-4fd9-9f7f-4a3a18eeea63",
   "metadata": {},
   "source": [
    "### Calculate On Base Percentage"
   ]
  },
  {
   "cell_type": "code",
   "execution_count": 8,
   "id": "7c976c1d-c4f8-4b83-831f-44cd0c1dcf58",
   "metadata": {},
   "outputs": [],
   "source": [
    "obp_data = pbp[[\"ab\", \"hit_value\", \"sac_hit\", \"sac_fly\", \"event_type\"]]"
   ]
  },
  {
   "cell_type": "code",
   "execution_count": 9,
   "id": "a9a4ded4-ff17-4ea6-bb57-4b68120f1447",
   "metadata": {},
   "outputs": [],
   "source": [
    "ab = obp_data[\"ab\"].sum()"
   ]
  },
  {
   "cell_type": "code",
   "execution_count": 10,
   "id": "2a95f27d-9e7a-4864-9e5a-ec11c11f6233",
   "metadata": {},
   "outputs": [],
   "source": [
    "H = (obp_data[\"hit_value\"] > 0).sum()"
   ]
  },
  {
   "cell_type": "code",
   "execution_count": 11,
   "id": "fc63a209-d1b7-4802-8e62-69e2ece4024f",
   "metadata": {},
   "outputs": [
    {
     "data": {
      "text/plain": [
       "0.24271250726455204"
      ]
     },
     "execution_count": 11,
     "metadata": {},
     "output_type": "execute_result"
    }
   ],
   "source": [
    "H / ab"
   ]
  },
  {
   "cell_type": "code",
   "execution_count": 12,
   "id": "cbe4c05f-30b9-4f31-a7de-1703c18c3156",
   "metadata": {},
   "outputs": [],
   "source": [
    "event_map = {2: \"out\", 3: \"K\", 4: \"SB\", 5: \"Def. Ind.\", 6: \"CS\", 7: \"Pick Err.\",\n",
    "             8: \"Pickoff\", 9: \"WP\", 10: \"PB\", 11: \"BALK\", 12: \"Adv.\", \n",
    "             13: \"F. err.\", 14: \"BB\", 15: \"IBB\", 16: \"HBP\", 17: \"Interference\",\n",
    "             18: \"E\", 19: \"FC\", 20: \"1B\", 21: \"2B\", 22: \"3B\", 23: \"HR\"}"
   ]
  },
  {
   "cell_type": "code",
   "execution_count": 13,
   "id": "92ee4f10-968e-48a9-99fd-6189ba6ccd39",
   "metadata": {},
   "outputs": [],
   "source": [
    "obp_events = obp_data[\"event_type\"].value_counts()\n",
    "obp_events.index = obp_events.index.map(event_map)"
   ]
  },
  {
   "cell_type": "code",
   "execution_count": 14,
   "id": "c593312a-0230-4962-a885-56ddbb585d2d",
   "metadata": {},
   "outputs": [
    {
     "data": {
      "text/plain": [
       "Index(['out', 'K', '1B', 'BB', '2B', 'HR', 'SB', 'HBP', 'WP', 'E', 'FC', '3B',\n",
       "       'CS', 'IBB', 'Pickoff', 'Def. Ind.', 'PB', 'BALK', 'Adv.',\n",
       "       'Interference', 'F. err.'],\n",
       "      dtype='object')"
      ]
     },
     "execution_count": 14,
     "metadata": {},
     "output_type": "execute_result"
    }
   ],
   "source": [
    "obp_events.index.unique()"
   ]
  },
  {
   "cell_type": "code",
   "execution_count": 15,
   "id": "765c41d7-9d7b-4525-8074-b055aed9aa42",
   "metadata": {},
   "outputs": [],
   "source": [
    "num = obp_events[[\"1B\", \"2B\", \"3B\", \"HR\", \"BB\", \"HBP\"]].sum()"
   ]
  },
  {
   "cell_type": "code",
   "execution_count": 16,
   "id": "769ba361-42eb-49ab-b334-07680719a66e",
   "metadata": {},
   "outputs": [],
   "source": [
    "denom = ab + obp_events[[\"BB\", \"HBP\"]].sum() #+ obp_data.sac_fly.sum() "
   ]
  },
  {
   "cell_type": "code",
   "execution_count": 17,
   "id": "d12f3c08-1bd4-4e11-a504-880f9ae692a2",
   "metadata": {},
   "outputs": [],
   "source": [
    "obp = num / denom"
   ]
  },
  {
   "cell_type": "markdown",
   "id": "6f022ab5-ef80-4602-ab6a-75a92ece3ab2",
   "metadata": {},
   "source": [
    "### Calculate wOBA"
   ]
  },
  {
   "cell_type": "code",
   "execution_count": 18,
   "id": "f7715461-96ec-4664-b71e-b957f840469a",
   "metadata": {},
   "outputs": [],
   "source": [
    "pbp = pbp[[\"id\", \"home\", \"visitors\", \"inning\", \"batting_team\", \"outs\", \"b_id\",\n",
    "           \"p_id\", \"event_type\", \"batter_event\", \"sac_hit\", \"sac_fly\",\n",
    "           \"errors\", \"out_play\", \"rbi\", \"runner000\", \"runner100\", \"runner020\", \n",
    "           \"runner120\",\"runner003\", \"runner103\", \"runner023\", \"runner123\", \"score\"]]"
   ]
  },
  {
   "cell_type": "code",
   "execution_count": 19,
   "id": "5dd7ed79-c410-4d20-89b1-5ee91fdbb0ff",
   "metadata": {},
   "outputs": [],
   "source": [
    "batting = pbp.loc[pbp[\"batter_event\"]]"
   ]
  },
  {
   "cell_type": "code",
   "execution_count": 20,
   "id": "49713fea-feb2-4545-91a9-71bb58bad9ee",
   "metadata": {},
   "outputs": [],
   "source": [
    "run_exp_cols = [\"id\", \"home\", \"visitors\", \"inning\", \"batting_team\"]"
   ]
  },
  {
   "cell_type": "code",
   "execution_count": 21,
   "id": "f55f8940-bb8a-4121-9942-33ddd2949def",
   "metadata": {},
   "outputs": [],
   "source": [
    "max_scores = batting.groupby(run_exp_cols)[[\"score\"]].max()\n",
    "max_scores.columns = [\"max_runs\"]"
   ]
  },
  {
   "cell_type": "code",
   "execution_count": 22,
   "id": "6927bdb1-b92a-4725-8f3e-fa94548caa23",
   "metadata": {},
   "outputs": [],
   "source": [
    "batting = batting.set_index(run_exp_cols).join(max_scores, how = \"left\").reset_index()"
   ]
  },
  {
   "cell_type": "code",
   "execution_count": 23,
   "id": "b1e736db-3316-4c42-afc3-9cf2cf35fbd2",
   "metadata": {},
   "outputs": [],
   "source": [
    "batting[\"fwd_runs\"] = batting[\"max_runs\"] - batting[\"score\"]"
   ]
  },
  {
   "cell_type": "code",
   "execution_count": 24,
   "id": "c34f97c1-bea7-4d39-b217-666632448942",
   "metadata": {},
   "outputs": [],
   "source": [
    "def calc_run_exp(runner):\n",
    "    return batting.loc[batting[runner]].groupby(\"outs\")[\"fwd_runs\"].mean()"
   ]
  },
  {
   "cell_type": "code",
   "execution_count": 25,
   "id": "99a6a37c-aa24-4e8e-a2ee-bc76f4490d8e",
   "metadata": {},
   "outputs": [],
   "source": [
    "runners = batting.columns[batting.columns.str.startswith(\"runner\")]"
   ]
  },
  {
   "cell_type": "code",
   "execution_count": 26,
   "id": "192bb3dc-002b-4763-8211-aa6714289627",
   "metadata": {},
   "outputs": [
    {
     "data": {
      "text/html": [
       "<div>\n",
       "<style scoped>\n",
       "    .dataframe tbody tr th:only-of-type {\n",
       "        vertical-align: middle;\n",
       "    }\n",
       "\n",
       "    .dataframe tbody tr th {\n",
       "        vertical-align: top;\n",
       "    }\n",
       "\n",
       "    .dataframe thead th {\n",
       "        text-align: right;\n",
       "    }\n",
       "</style>\n",
       "<table border=\"1\" class=\"dataframe\">\n",
       "  <thead>\n",
       "    <tr style=\"text-align: right;\">\n",
       "      <th></th>\n",
       "      <th>runner000</th>\n",
       "      <th>runner100</th>\n",
       "      <th>runner020</th>\n",
       "      <th>runner120</th>\n",
       "      <th>runner003</th>\n",
       "      <th>runner103</th>\n",
       "      <th>runner023</th>\n",
       "      <th>runner123</th>\n",
       "    </tr>\n",
       "    <tr>\n",
       "      <th>outs</th>\n",
       "      <th></th>\n",
       "      <th></th>\n",
       "      <th></th>\n",
       "      <th></th>\n",
       "      <th></th>\n",
       "      <th></th>\n",
       "      <th></th>\n",
       "      <th></th>\n",
       "    </tr>\n",
       "  </thead>\n",
       "  <tbody>\n",
       "    <tr>\n",
       "      <th>0</th>\n",
       "      <td>0.467744</td>\n",
       "      <td>0.848654</td>\n",
       "      <td>1.010277</td>\n",
       "      <td>1.396901</td>\n",
       "      <td>1.238462</td>\n",
       "      <td>1.700115</td>\n",
       "      <td>1.947950</td>\n",
       "      <td>2.299248</td>\n",
       "    </tr>\n",
       "    <tr>\n",
       "      <th>1</th>\n",
       "      <td>0.249442</td>\n",
       "      <td>0.496782</td>\n",
       "      <td>0.649254</td>\n",
       "      <td>0.877859</td>\n",
       "      <td>0.928941</td>\n",
       "      <td>1.099465</td>\n",
       "      <td>1.365691</td>\n",
       "      <td>1.462416</td>\n",
       "    </tr>\n",
       "    <tr>\n",
       "      <th>2</th>\n",
       "      <td>0.095093</td>\n",
       "      <td>0.201814</td>\n",
       "      <td>0.298542</td>\n",
       "      <td>0.421255</td>\n",
       "      <td>0.364076</td>\n",
       "      <td>0.484707</td>\n",
       "      <td>0.520642</td>\n",
       "      <td>0.735498</td>\n",
       "    </tr>\n",
       "  </tbody>\n",
       "</table>\n",
       "</div>"
      ],
      "text/plain": [
       "      runner000  runner100  runner020  runner120  runner003  runner103  \\\n",
       "outs                                                                     \n",
       "0      0.467744   0.848654   1.010277   1.396901   1.238462   1.700115   \n",
       "1      0.249442   0.496782   0.649254   0.877859   0.928941   1.099465   \n",
       "2      0.095093   0.201814   0.298542   0.421255   0.364076   0.484707   \n",
       "\n",
       "      runner023  runner123  \n",
       "outs                        \n",
       "0      1.947950   2.299248  \n",
       "1      1.365691   1.462416  \n",
       "2      0.520642   0.735498  "
      ]
     },
     "execution_count": 26,
     "metadata": {},
     "output_type": "execute_result"
    }
   ],
   "source": [
    "re24 = pd.concat({runner: calc_run_exp(runner) for runner in runners}, axis = 1)\n",
    "re24"
   ]
  },
  {
   "cell_type": "code",
   "execution_count": 27,
   "id": "1ef92948-e7b0-4796-9fca-235d83bbb1b8",
   "metadata": {},
   "outputs": [],
   "source": [
    "batting = batting.loc[batting[\"batter_event\"]]"
   ]
  },
  {
   "cell_type": "code",
   "execution_count": 28,
   "id": "35da9f44-5172-4f97-b980-5f8064b791d0",
   "metadata": {},
   "outputs": [],
   "source": [
    "batting[\"bases\"] = batting[runners].idxmax(axis = 1)"
   ]
  },
  {
   "cell_type": "code",
   "execution_count": 29,
   "id": "e7e9b506-93b8-4891-b5e3-c3611307a5cf",
   "metadata": {},
   "outputs": [],
   "source": [
    "x = batting[\"bases\"].iloc[1:].reset_index(drop = True)"
   ]
  },
  {
   "cell_type": "code",
   "execution_count": 30,
   "id": "89b91c53-ffbc-4bff-993d-f28fbae3c887",
   "metadata": {},
   "outputs": [],
   "source": [
    "batting[\"outcome\"] = pd.concat([x, pd.Series(\"runner000\", index = [x.index.max() + 1])])"
   ]
  },
  {
   "cell_type": "code",
   "execution_count": 31,
   "id": "8b09a155-004c-4720-b34c-65eec1bb610b",
   "metadata": {},
   "outputs": [],
   "source": [
    "batting[\"after_outs\"] = batting[\"outs\"] + batting[\"out_play\"]"
   ]
  },
  {
   "cell_type": "code",
   "execution_count": 32,
   "id": "17c49a33-6452-48aa-9a87-b5980e9994f5",
   "metadata": {},
   "outputs": [],
   "source": [
    "def calc_re(x):\n",
    "    before = re24.loc[x[\"outs\"], x[\"bases\"]]\n",
    "    if x[\"after_outs\"] == 3:\n",
    "        after = 0\n",
    "    else:\n",
    "        after = re24.loc[x[\"after_outs\"], x[\"outcome\"]]\n",
    "    return after - before + x[\"rbi\"]"
   ]
  },
  {
   "cell_type": "code",
   "execution_count": 33,
   "id": "3034d478-2bad-43c2-8e24-7d439cee172f",
   "metadata": {},
   "outputs": [],
   "source": [
    "batting[\"re\"] = batting.apply(calc_re, axis = 1)"
   ]
  },
  {
   "cell_type": "code",
   "execution_count": 34,
   "id": "f7e71dab-fde5-4f85-beda-974f6d91bf98",
   "metadata": {},
   "outputs": [],
   "source": [
    "base_factor = batting.groupby(\"event_type\")[\"re\"].mean()"
   ]
  },
  {
   "cell_type": "code",
   "execution_count": 35,
   "id": "ffa3e41e-4afe-404b-ae04-18a1a37e1881",
   "metadata": {},
   "outputs": [],
   "source": [
    "base_factor.index = base_factor.index.map(lambda x: event_map[x])"
   ]
  },
  {
   "cell_type": "code",
   "execution_count": 36,
   "id": "b09f0738-446c-4a8d-8989-a4ec43a41bbf",
   "metadata": {},
   "outputs": [],
   "source": [
    "out_level = batting.loc[batting[\"event_type\"].isin([2, 3]), \"re\"].mean()"
   ]
  },
  {
   "cell_type": "code",
   "execution_count": 37,
   "id": "a822f32a-8061-4938-986e-dfc1ad202ba5",
   "metadata": {},
   "outputs": [],
   "source": [
    "out_scaled_factor = base_factor - out_level"
   ]
  },
  {
   "cell_type": "code",
   "execution_count": 38,
   "id": "40f79aac-cf16-46b8-99e7-fa0d79e18c3a",
   "metadata": {},
   "outputs": [
    {
     "data": {
      "text/plain": [
       "event_type\n",
       "out            -0.000076\n",
       "K               0.000155\n",
       "BB              0.559463\n",
       "IBB             0.427871\n",
       "HBP             0.588171\n",
       "Interference    0.616266\n",
       "E               0.545613\n",
       "FC              0.286945\n",
       "1B              0.693079\n",
       "2B              0.988234\n",
       "3B              1.232139\n",
       "HR              1.662953\n",
       "Name: re, dtype: float64"
      ]
     },
     "execution_count": 38,
     "metadata": {},
     "output_type": "execute_result"
    }
   ],
   "source": [
    "out_scaled_factor"
   ]
  },
  {
   "cell_type": "code",
   "execution_count": 39,
   "id": "905f492f-fc7c-4d8e-acb7-26150a25af43",
   "metadata": {},
   "outputs": [],
   "source": [
    "woba_events = [\"BB\", \"HBP\", \"1B\", \"2B\", \"3B\", \"HR\"]"
   ]
  },
  {
   "cell_type": "code",
   "execution_count": 40,
   "id": "874b0f4f-6b6c-4875-a04d-5ab6eea8b91d",
   "metadata": {},
   "outputs": [],
   "source": [
    "batting[\"events\"] = batting[\"event_type\"].map(event_map)"
   ]
  },
  {
   "cell_type": "code",
   "execution_count": 41,
   "id": "9cecaf50-e7ea-4623-8be2-7b4cc67f49b1",
   "metadata": {},
   "outputs": [],
   "source": [
    "hit_events = batting[\"events\"].value_counts()[woba_events]"
   ]
  },
  {
   "cell_type": "code",
   "execution_count": 42,
   "id": "287472e9-08eb-4bc3-81fb-660fb93efa95",
   "metadata": {},
   "outputs": [],
   "source": [
    "league_woba_unscaled = (hit_events * out_scaled_factor[woba_events]).sum() / batting.shape[0]"
   ]
  },
  {
   "cell_type": "code",
   "execution_count": 43,
   "id": "e0fb5992-e819-4693-a024-419716bd22e8",
   "metadata": {},
   "outputs": [
    {
     "data": {
      "text/plain": [
       "0.24439886369075467"
      ]
     },
     "execution_count": 43,
     "metadata": {},
     "output_type": "execute_result"
    }
   ],
   "source": [
    "league_woba_unscaled"
   ]
  },
  {
   "cell_type": "code",
   "execution_count": 44,
   "id": "71c7d043-05fc-4cd6-8632-f14992fbb4c0",
   "metadata": {},
   "outputs": [],
   "source": [
    "woba_scale = obp / league_woba_unscaled"
   ]
  },
  {
   "cell_type": "code",
   "execution_count": 45,
   "id": "f6ab45a7-d505-47ef-97b5-5285eaa2486f",
   "metadata": {},
   "outputs": [
    {
     "data": {
      "text/plain": [
       "1.2760019257501667"
      ]
     },
     "execution_count": 45,
     "metadata": {},
     "output_type": "execute_result"
    }
   ],
   "source": [
    "woba_scale"
   ]
  },
  {
   "cell_type": "code",
   "execution_count": 46,
   "id": "89828bbb-ff52-40ab-81de-45f1964197ec",
   "metadata": {},
   "outputs": [],
   "source": [
    "linear_factor = out_scaled_factor * woba_scale"
   ]
  },
  {
   "cell_type": "code",
   "execution_count": 47,
   "id": "ce6dc399-fdac-4f78-b3c3-32b3b3225f29",
   "metadata": {},
   "outputs": [
    {
     "data": {
      "text/plain": [
       "event_type\n",
       "BB     0.713876\n",
       "HBP    0.750507\n",
       "1B     0.884370\n",
       "2B     1.260988\n",
       "3B     1.572211\n",
       "HR     2.121931\n",
       "Name: re, dtype: float64"
      ]
     },
     "execution_count": 47,
     "metadata": {},
     "output_type": "execute_result"
    }
   ],
   "source": [
    "linear_factor[woba_events]"
   ]
  },
  {
   "cell_type": "code",
   "execution_count": 48,
   "id": "6e9e64ed-8451-4cf2-af99-65056d5030ea",
   "metadata": {},
   "outputs": [],
   "source": [
    "def calc_woba_by_batter(playid):\n",
    "    id_events = batting.loc[batting.b_id == playid, \"events\"].value_counts()\n",
    "    id_events = id_events[id_events.index.isin(woba_events)]\n",
    "    num = (id_events * linear_factor[id_events.index]).sum()\n",
    "    #num = (batting.loc[batting.b_id == playid, \"events\"].value_counts()[woba_factors] * linear_factor[woba_factors]).sum()\n",
    "    denom = batting.loc[batting.b_id == playid, \"events\"].shape[0]\n",
    "    return num / denom"
   ]
  },
  {
   "cell_type": "code",
   "execution_count": 49,
   "id": "b3c33aa2-3654-40a2-8b21-b655cb2a848f",
   "metadata": {},
   "outputs": [],
   "source": [
    "batter_woba = pd.Series({playid: calc_woba_by_batter(playid) for playid in batting.b_id.unique()})"
   ]
  },
  {
   "cell_type": "code",
   "execution_count": 50,
   "id": "b2595d68-a36d-49d0-8bd8-0c6abbfccf9b",
   "metadata": {},
   "outputs": [],
   "source": [
    "def pa_by_batter(playid):\n",
    "    id_events = batting.loc[batting.b_id == playid, \"events\"].value_counts()\n",
    "    return id_events.sum()"
   ]
  },
  {
   "cell_type": "code",
   "execution_count": 51,
   "id": "f289d80f-b811-4010-b7d2-f4a25d477515",
   "metadata": {},
   "outputs": [],
   "source": [
    "batter_pa = pd.Series({playid: pa_by_batter(playid) for playid in batting.b_id.unique()})"
   ]
  },
  {
   "cell_type": "code",
   "execution_count": 52,
   "id": "f3ff8ed0-34f5-4d3f-8d8f-62084ff87787",
   "metadata": {},
   "outputs": [
    {
     "data": {
      "text/plain": [
       "mullc002    0.315966\n",
       "rutsa001    0.358900\n",
       "mounr001    0.319165\n",
       "santa003    0.340382\n",
       "uriar001    0.314120\n",
       "matej003    0.280942\n",
       "haysa001    0.317252\n",
       "vavrt001    0.306657\n",
       "stowk001    0.319570\n",
       "dtype: float64"
      ]
     },
     "execution_count": 52,
     "metadata": {},
     "output_type": "execute_result"
    }
   ],
   "source": [
    "batter_woba[[\"mullc002\", \"rutsa001\", \"mounr001\", \"santa003\", \"uriar001\", \"matej003\", \"haysa001\", \"vavrt001\", \"stowk001\"]]"
   ]
  },
  {
   "cell_type": "code",
   "execution_count": 53,
   "id": "756d851f-7da7-4d5d-afa4-f95f84456936",
   "metadata": {},
   "outputs": [],
   "source": [
    "def calc_woba_by_pitcher(playid):\n",
    "    id_events = batting.loc[batting.p_id == playid, \"events\"].value_counts()\n",
    "    id_events = id_events[id_events.index.isin(woba_events)]\n",
    "    num = (id_events * linear_factor[id_events.index]).sum()\n",
    "    denom = batting.loc[batting.p_id == playid, \"events\"].shape[0]\n",
    "    return num / denom"
   ]
  },
  {
   "cell_type": "code",
   "execution_count": 54,
   "id": "1a0c5758-ac0f-4132-8abe-c3d417889201",
   "metadata": {},
   "outputs": [],
   "source": [
    "pitcher_wobaa = pd.Series({playid: calc_woba_by_pitcher(playid) for playid in batting.p_id.unique()})"
   ]
  },
  {
   "cell_type": "code",
   "execution_count": 55,
   "id": "4aad4a48-37a3-491f-b29a-02057270fc59",
   "metadata": {},
   "outputs": [
    {
     "data": {
      "text/plain": [
       "watks003    0.334150\n",
       "votha001    0.334347\n",
       "kremd001    0.313640\n",
       "lylej001    0.344510\n",
       "bradk001    0.336247\n",
       "perec004    0.258307\n",
       "bautf001    0.242534\n",
       "wellt003    0.303430\n",
       "dtype: float64"
      ]
     },
     "execution_count": 55,
     "metadata": {},
     "output_type": "execute_result"
    }
   ],
   "source": [
    "pitcher_wobaa[[\"watks003\", \"votha001\", \"kremd001\", \"lylej001\", \"bradk001\", \"perec004\", \"bautf001\", \"wellt003\"]]"
   ]
  },
  {
   "cell_type": "code",
   "execution_count": 56,
   "id": "5e34b03d-1ca9-4128-a84e-d261014ba316",
   "metadata": {},
   "outputs": [],
   "source": [
    "batter_woba = pd.concat({\"PA\": batter_pa, \"wOBA\": batter_woba}, axis = 1)"
   ]
  },
  {
   "cell_type": "markdown",
   "id": "14e7a0c1-6695-4d1b-a33e-23fdaf1f3d54",
   "metadata": {},
   "source": [
    "### wRAA"
   ]
  },
  {
   "cell_type": "code",
   "execution_count": 57,
   "id": "4ad36268-c1c6-40d9-a3ac-1acdbdf803f5",
   "metadata": {},
   "outputs": [],
   "source": [
    "league_woba_scaled = league_woba_unscaled * woba_scale"
   ]
  },
  {
   "cell_type": "code",
   "execution_count": 58,
   "id": "3a81494a-2ca8-4a63-b28e-4d1e56c3a415",
   "metadata": {},
   "outputs": [],
   "source": [
    "batter_wraa = (batter_woba[\"wOBA\"] - league_woba_scaled) / woba_scale * batter_woba[\"PA\"]"
   ]
  },
  {
   "cell_type": "code",
   "execution_count": 60,
   "id": "63fb61e5-2786-4207-9325-f53eee5d8f91",
   "metadata": {},
   "outputs": [],
   "source": [
    "batter_wraa = pd.concat({\"PA\": batter_pa, \"wRAA\": batter_wraa}, axis = 1)"
   ]
  },
  {
   "cell_type": "markdown",
   "id": "bececbc2-300e-40c6-8e5f-96af849ab9b5",
   "metadata": {},
   "source": [
    "### wRC and wRC+"
   ]
  },
  {
   "cell_type": "code",
   "execution_count": 61,
   "id": "bf5238e6-8747-47ff-8f3d-4ccbd79ad875",
   "metadata": {},
   "outputs": [
    {
     "data": {
      "text/plain": [
       "0.2797911510108576"
      ]
     },
     "execution_count": 61,
     "metadata": {},
     "output_type": "execute_result"
    }
   ],
   "source": [
    "batter_woba[\"wOBA\"].mean()"
   ]
  },
  {
   "cell_type": "code",
   "execution_count": 62,
   "id": "85a9973c-8aaa-4326-b4a2-c006c0e1f5c0",
   "metadata": {},
   "outputs": [],
   "source": [
    "league_runs = batting.groupby([\"id\", \"home\", \"visitors\", \"batting_team\"])[\"score\"].max().sum()\n",
    "league_pa = batting.shape[0]\n",
    "league_rpa = league_runs / league_pa"
   ]
  },
  {
   "cell_type": "code",
   "execution_count": 63,
   "id": "eb3a2700-e8d2-43d1-ada8-3f4d981c9f70",
   "metadata": {},
   "outputs": [
    {
     "data": {
      "text/plain": [
       "0.11261068266209655"
      ]
     },
     "execution_count": 63,
     "metadata": {},
     "output_type": "execute_result"
    }
   ],
   "source": [
    "league_rpa"
   ]
  },
  {
   "cell_type": "code",
   "execution_count": 135,
   "id": "0956c03b-095a-471e-a2d7-3f3773f8fed2",
   "metadata": {},
   "outputs": [
    {
     "data": {
      "text/plain": [
       "0.31185342072055544"
      ]
     },
     "execution_count": 135,
     "metadata": {},
     "output_type": "execute_result"
    }
   ],
   "source": [
    "league_woba_scaled"
   ]
  },
  {
   "cell_type": "code",
   "execution_count": 140,
   "id": "93c9237b-225b-47b4-a278-6a863cb21658",
   "metadata": {},
   "outputs": [
    {
     "data": {
      "text/html": [
       "<div>\n",
       "<style scoped>\n",
       "    .dataframe tbody tr th:only-of-type {\n",
       "        vertical-align: middle;\n",
       "    }\n",
       "\n",
       "    .dataframe tbody tr th {\n",
       "        vertical-align: top;\n",
       "    }\n",
       "\n",
       "    .dataframe thead th {\n",
       "        text-align: right;\n",
       "    }\n",
       "</style>\n",
       "<table border=\"1\" class=\"dataframe\">\n",
       "  <thead>\n",
       "    <tr style=\"text-align: right;\">\n",
       "      <th></th>\n",
       "      <th>PA</th>\n",
       "      <th>wOBA</th>\n",
       "    </tr>\n",
       "  </thead>\n",
       "  <tbody>\n",
       "    <tr>\n",
       "      <th>altuj001</th>\n",
       "      <td>604</td>\n",
       "      <td>0.401098</td>\n",
       "    </tr>\n",
       "    <tr>\n",
       "      <th>branm003</th>\n",
       "      <td>277</td>\n",
       "      <td>0.344791</td>\n",
       "    </tr>\n",
       "    <tr>\n",
       "      <th>brega001</th>\n",
       "      <td>656</td>\n",
       "      <td>0.362812</td>\n",
       "    </tr>\n",
       "    <tr>\n",
       "      <th>alvay001</th>\n",
       "      <td>561</td>\n",
       "      <td>0.426376</td>\n",
       "    </tr>\n",
       "    <tr>\n",
       "      <th>gurry001</th>\n",
       "      <td>584</td>\n",
       "      <td>0.287023</td>\n",
       "    </tr>\n",
       "    <tr>\n",
       "      <th>...</th>\n",
       "      <td>...</td>\n",
       "      <td>...</td>\n",
       "    </tr>\n",
       "    <tr>\n",
       "      <th>naylb001</th>\n",
       "      <td>8</td>\n",
       "      <td>0.000000</td>\n",
       "    </tr>\n",
       "    <tr>\n",
       "      <th>davib006</th>\n",
       "      <td>11</td>\n",
       "      <td>0.225692</td>\n",
       "    </tr>\n",
       "    <tr>\n",
       "      <th>okeeb001</th>\n",
       "      <td>4</td>\n",
       "      <td>0.399561</td>\n",
       "    </tr>\n",
       "    <tr>\n",
       "      <th>lopeo001</th>\n",
       "      <td>10</td>\n",
       "      <td>0.602010</td>\n",
       "    </tr>\n",
       "    <tr>\n",
       "      <th>mondn001</th>\n",
       "      <td>3</td>\n",
       "      <td>0.237959</td>\n",
       "    </tr>\n",
       "  </tbody>\n",
       "</table>\n",
       "<p>693 rows × 2 columns</p>\n",
       "</div>"
      ],
      "text/plain": [
       "           PA      wOBA\n",
       "altuj001  604  0.401098\n",
       "branm003  277  0.344791\n",
       "brega001  656  0.362812\n",
       "alvay001  561  0.426376\n",
       "gurry001  584  0.287023\n",
       "...       ...       ...\n",
       "naylb001    8  0.000000\n",
       "davib006   11  0.225692\n",
       "okeeb001    4  0.399561\n",
       "lopeo001   10  0.602010\n",
       "mondn001    3  0.237959\n",
       "\n",
       "[693 rows x 2 columns]"
      ]
     },
     "execution_count": 140,
     "metadata": {},
     "output_type": "execute_result"
    }
   ],
   "source": [
    "batter_woba"
   ]
  },
  {
   "cell_type": "code",
   "execution_count": 141,
   "id": "9e7598a1-cd30-4a72-b152-31ead96a5280",
   "metadata": {},
   "outputs": [
    {
     "data": {
      "text/plain": [
       "1.2760019257501667"
      ]
     },
     "execution_count": 141,
     "metadata": {},
     "output_type": "execute_result"
    }
   ],
   "source": [
    "woba_scale"
   ]
  },
  {
   "cell_type": "code",
   "execution_count": 209,
   "id": "4268f6ca-6f06-498c-a49f-f3fda40992d4",
   "metadata": {},
   "outputs": [],
   "source": [
    "wRC = (batter_wraa[\"wRAA\"] / batter_wraa[\"PA\"] + league_rpa)* batter_woba[\"PA\"]"
   ]
  },
  {
   "cell_type": "code",
   "execution_count": 75,
   "id": "de82a4ce-aaf9-4ae1-85ab-dfed67cca89e",
   "metadata": {},
   "outputs": [],
   "source": [
    "park_factors = pd.read_csv(path + \"statcast_parkfactors.csv\", usecols = [\"Team\", \"Park Factor\"], index_col = 0)"
   ]
  },
  {
   "cell_type": "code",
   "execution_count": 240,
   "id": "e7f909bd-7bc3-4495-aca4-7e41a7d009ea",
   "metadata": {},
   "outputs": [
    {
     "data": {
      "text/html": [
       "<div>\n",
       "<style scoped>\n",
       "    .dataframe tbody tr th:only-of-type {\n",
       "        vertical-align: middle;\n",
       "    }\n",
       "\n",
       "    .dataframe tbody tr th {\n",
       "        vertical-align: top;\n",
       "    }\n",
       "\n",
       "    .dataframe thead th {\n",
       "        text-align: right;\n",
       "    }\n",
       "</style>\n",
       "<table border=\"1\" class=\"dataframe\">\n",
       "  <thead>\n",
       "    <tr style=\"text-align: right;\">\n",
       "      <th></th>\n",
       "      <th>Park Factor</th>\n",
       "    </tr>\n",
       "    <tr>\n",
       "      <th>Team</th>\n",
       "      <th></th>\n",
       "    </tr>\n",
       "  </thead>\n",
       "  <tbody>\n",
       "    <tr>\n",
       "      <th>COL</th>\n",
       "      <td>115</td>\n",
       "    </tr>\n",
       "    <tr>\n",
       "      <th>CIN</th>\n",
       "      <td>109</td>\n",
       "    </tr>\n",
       "    <tr>\n",
       "      <th>BOS</th>\n",
       "      <td>107</td>\n",
       "    </tr>\n",
       "    <tr>\n",
       "      <th>LAN</th>\n",
       "      <td>104</td>\n",
       "    </tr>\n",
       "    <tr>\n",
       "      <th>PHI</th>\n",
       "      <td>104</td>\n",
       "    </tr>\n",
       "    <tr>\n",
       "      <th>ANA</th>\n",
       "      <td>103</td>\n",
       "    </tr>\n",
       "    <tr>\n",
       "      <th>MIA</th>\n",
       "      <td>103</td>\n",
       "    </tr>\n",
       "    <tr>\n",
       "      <th>KCA</th>\n",
       "      <td>102</td>\n",
       "    </tr>\n",
       "    <tr>\n",
       "      <th>SFN</th>\n",
       "      <td>102</td>\n",
       "    </tr>\n",
       "    <tr>\n",
       "      <th>TEX</th>\n",
       "      <td>102</td>\n",
       "    </tr>\n",
       "    <tr>\n",
       "      <th>CHA</th>\n",
       "      <td>101</td>\n",
       "    </tr>\n",
       "    <tr>\n",
       "      <th>HOU</th>\n",
       "      <td>101</td>\n",
       "    </tr>\n",
       "    <tr>\n",
       "      <th>TOR</th>\n",
       "      <td>100</td>\n",
       "    </tr>\n",
       "    <tr>\n",
       "      <th>CHN</th>\n",
       "      <td>100</td>\n",
       "    </tr>\n",
       "    <tr>\n",
       "      <th>PIT</th>\n",
       "      <td>100</td>\n",
       "    </tr>\n",
       "    <tr>\n",
       "      <th>ATL</th>\n",
       "      <td>100</td>\n",
       "    </tr>\n",
       "    <tr>\n",
       "      <th>WAS</th>\n",
       "      <td>99</td>\n",
       "    </tr>\n",
       "    <tr>\n",
       "      <th>MIN</th>\n",
       "      <td>99</td>\n",
       "    </tr>\n",
       "    <tr>\n",
       "      <th>NYA</th>\n",
       "      <td>99</td>\n",
       "    </tr>\n",
       "    <tr>\n",
       "      <th>TBA</th>\n",
       "      <td>98</td>\n",
       "    </tr>\n",
       "    <tr>\n",
       "      <th>ARI</th>\n",
       "      <td>98</td>\n",
       "    </tr>\n",
       "    <tr>\n",
       "      <th>MIL</th>\n",
       "      <td>98</td>\n",
       "    </tr>\n",
       "    <tr>\n",
       "      <th>DET</th>\n",
       "      <td>98</td>\n",
       "    </tr>\n",
       "    <tr>\n",
       "      <th>BAL</th>\n",
       "      <td>97</td>\n",
       "    </tr>\n",
       "    <tr>\n",
       "      <th>SLN</th>\n",
       "      <td>97</td>\n",
       "    </tr>\n",
       "    <tr>\n",
       "      <th>CLE</th>\n",
       "      <td>96</td>\n",
       "    </tr>\n",
       "    <tr>\n",
       "      <th>OAK</th>\n",
       "      <td>96</td>\n",
       "    </tr>\n",
       "    <tr>\n",
       "      <th>NYN</th>\n",
       "      <td>94</td>\n",
       "    </tr>\n",
       "    <tr>\n",
       "      <th>SDN</th>\n",
       "      <td>91</td>\n",
       "    </tr>\n",
       "    <tr>\n",
       "      <th>SEA</th>\n",
       "      <td>91</td>\n",
       "    </tr>\n",
       "  </tbody>\n",
       "</table>\n",
       "</div>"
      ],
      "text/plain": [
       "      Park Factor\n",
       "Team             \n",
       "COL           115\n",
       "CIN           109\n",
       "BOS           107\n",
       "LAN           104\n",
       "PHI           104\n",
       "ANA           103\n",
       "MIA           103\n",
       "KCA           102\n",
       "SFN           102\n",
       "TEX           102\n",
       "CHA           101\n",
       "HOU           101\n",
       "TOR           100\n",
       "CHN           100\n",
       "PIT           100\n",
       "ATL           100\n",
       "WAS            99\n",
       "MIN            99\n",
       "NYA            99\n",
       "TBA            98\n",
       "ARI            98\n",
       "MIL            98\n",
       "DET            98\n",
       "BAL            97\n",
       "SLN            97\n",
       "CLE            96\n",
       "OAK            96\n",
       "NYN            94\n",
       "SDN            91\n",
       "SEA            91"
      ]
     },
     "execution_count": 240,
     "metadata": {},
     "output_type": "execute_result"
    }
   ],
   "source": [
    "park_factors"
   ]
  },
  {
   "cell_type": "code",
   "execution_count": 88,
   "id": "38a7affd-2988-4bad-8998-f2862b76ed83",
   "metadata": {},
   "outputs": [],
   "source": [
    "team_to_retrosheet = {\"Rockies\": \"COL\", \"Reds\": \"CIN\", \"Red Sox\": \"BOS\",\n",
    "                      \"Dodgers\": \"LAN\", \"Phillies\": \"PHI\", \"Angels\": \"ANA\",\n",
    "                      \"Marlins\": \"MIA\", \"Royals\": \"KCA\", \"Giants\": \"SFN\",\n",
    "                      \"Rangers\": \"TEX\", \"White Sox\": \"CHA\", \"Astros\": \"HOU\",\n",
    "                      \"Blue Jays\": \"TOR\", \"Cubs\": \"CHN\", \"Pirates\": \"PIT\",\n",
    "                      \"Braves\": \"ATL\", \"Nationals\": \"WAS\", \"Twins\": \"MIN\",\n",
    "                      \"Yankees\": \"NYA\", \"Rays\": \"TBA\", \"D-backs\": \"ARI\", \n",
    "                      \"Brewers\": \"MIL\", \"Tigers\": \"DET\", \"Orioles\": \"BAL\",\n",
    "                      \"Cardinals\": \"SLN\", \"Guardians\": \"CLE\", \"Athletics\": \"OAK\",\n",
    "                      \"Mets\": \"NYN\", \"Padres\": \"SDN\", \"Mariners\": \"SEA\"}"
   ]
  },
  {
   "cell_type": "code",
   "execution_count": 90,
   "id": "75327dbf-19b6-41ae-81bd-cadc819906d8",
   "metadata": {},
   "outputs": [],
   "source": [
    "park_factors.index = park_factors.index.map(team_to_retrosheet)"
   ]
  },
  {
   "cell_type": "code",
   "execution_count": 103,
   "id": "16e9d7b6-9447-49c3-9ab7-55690439cc0e",
   "metadata": {},
   "outputs": [],
   "source": [
    "player_team_map = batting.groupby(\"b_id\")[\"home\"].value_counts().groupby(level = 0).idxmax().apply(lambda x: x[1])"
   ]
  },
  {
   "cell_type": "code",
   "execution_count": 113,
   "id": "3afb073f-e40b-49a1-9a4a-86975ba90847",
   "metadata": {},
   "outputs": [],
   "source": [
    "batter_wraa[\"PF\"] = park_factors.loc[batter_wraa.index.map(player_team_map)].values"
   ]
  },
  {
   "cell_type": "code",
   "execution_count": 220,
   "id": "c82b5f36-0d6f-4b0a-8ab9-536d53d93c51",
   "metadata": {},
   "outputs": [],
   "source": [
    "unscaled_wRCplus = (batter_wraa[\"wRAA\"] / batter_wraa[\"PA\"] - (batter_wraa[\"PF\"] / 100 * league_rpa) + 2 * league_rpa) / (wRC.sum() / batting.shape[0]) * 100"
   ]
  },
  {
   "cell_type": "code",
   "execution_count": 223,
   "id": "17566e72-df93-42a4-aeeb-61dc2ad93ab3",
   "metadata": {},
   "outputs": [],
   "source": [
    "wRCplus_scale = 100 / unscaled_wRCplus.mean()"
   ]
  },
  {
   "cell_type": "code",
   "execution_count": 224,
   "id": "f6d937f9-e31e-41b0-8c6c-e8938600078a",
   "metadata": {},
   "outputs": [],
   "source": [
    "wRCplus = unscaled_wRCplus * wRCplus_scale"
   ]
  },
  {
   "cell_type": "code",
   "execution_count": 232,
   "id": "1296b8a3-d807-401d-bb20-587a1ab4c91a",
   "metadata": {},
   "outputs": [
    {
     "data": {
      "text/plain": [
       "798.5130467031194"
      ]
     },
     "execution_count": 232,
     "metadata": {},
     "output_type": "execute_result"
    }
   ],
   "source": [
    "wRCplus.max()"
   ]
  },
  {
   "cell_type": "code",
   "execution_count": 233,
   "id": "085624a5-c600-4778-bcb5-119eb7dd2c66",
   "metadata": {},
   "outputs": [
    {
     "data": {
      "text/plain": [
       "255.60354279120733"
      ]
     },
     "execution_count": 233,
     "metadata": {},
     "output_type": "execute_result"
    }
   ],
   "source": [
    "wRCplus[\"judga001\"]"
   ]
  },
  {
   "cell_type": "code",
   "execution_count": 227,
   "id": "95064c95-8e07-4894-9abc-04a2277a8160",
   "metadata": {},
   "outputs": [
    {
     "data": {
      "text/plain": [
       "<AxesSubplot: >"
      ]
     },
     "execution_count": 227,
     "metadata": {},
     "output_type": "execute_result"
    },
    {
     "data": {
      "image/png": "[encoded data removed]",
      "text/plain": [
       "<Figure size 640x480 with 1 Axes>"
      ]
     },
     "metadata": {},
     "output_type": "display_data"
    }
   ],
   "source": [
    "wRCplus.hist()"
   ]
  }
 ],
 "metadata": {
  "kernelspec": {
   "display_name": "Python 3 (ipykernel)",
   "language": "python",
   "name": "python3"
  },
  "language_info": {
   "codemirror_mode": {
    "name": "ipython",
    "version": 3
   },
   "file_extension": ".py",
   "mimetype": "text/x-python",
   "name": "python",
   "nbconvert_exporter": "python",
   "pygments_lexer": "ipython3",
   "version": "3.11.0"
  }
 },
 "nbformat": 4,
 "nbformat_minor": 5
}
